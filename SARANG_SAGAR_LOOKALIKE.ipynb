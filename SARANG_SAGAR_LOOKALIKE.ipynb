{
 "cells": [
  {
   "cell_type": "code",
   "execution_count": 1,
   "id": "f78c7f9f-099e-4c9e-b917-39027bc30c8e",
   "metadata": {},
   "outputs": [
    {
     "name": "stdout",
     "output_type": "stream",
     "text": [
      "  TransactionID CustomerID ProductID      TransactionDate  Quantity  \\\n",
      "0        T00001      C0199      P067  2024-08-25 12:38:23         1   \n",
      "1        T00112      C0146      P067  2024-05-27 22:23:54         1   \n",
      "2        T00166      C0127      P067  2024-04-25 07:38:55         1   \n",
      "3        T00272      C0087      P067  2024-03-26 22:55:37         2   \n",
      "4        T00363      C0070      P067  2024-03-21 15:10:10         3   \n",
      "\n",
      "   TotalValue  Price_x     CustomerName         Region  SignupDate  \\\n",
      "0      300.68   300.68   Andrea Jenkins         Europe  2022-12-03   \n",
      "1      300.68   300.68  Brittany Harvey           Asia  2024-09-04   \n",
      "2      300.68   300.68  Kathryn Stevens         Europe  2024-04-04   \n",
      "3      601.36   300.68  Travis Campbell  South America  2024-04-11   \n",
      "4      902.04   300.68    Timothy Perez         Europe  2022-03-15   \n",
      "\n",
      "                       ProductName     Category  Price_y  \n",
      "0  ComfortLiving Bluetooth Speaker  Electronics   300.68  \n",
      "1  ComfortLiving Bluetooth Speaker  Electronics   300.68  \n",
      "2  ComfortLiving Bluetooth Speaker  Electronics   300.68  \n",
      "3  ComfortLiving Bluetooth Speaker  Electronics   300.68  \n",
      "4  ComfortLiving Bluetooth Speaker  Electronics   300.68  \n"
     ]
    }
   ],
   "source": [
    "import pandas as pd\n",
    "\n",
    "# Load the datasets\n",
    "customers = pd.read_csv(\"C:\\\\Users\\\\saran\\\\OneDrive\\\\Desktop\\\\Customers.csv\")\n",
    "products = pd.read_csv(\"C:\\\\Users\\\\saran\\\\OneDrive\\\\Desktop\\\\Products.csv\")\n",
    "transactions = pd.read_csv(\"C:\\\\Users\\\\saran\\\\OneDrive\\\\Desktop\\\\Transactions.csv\")\n",
    "\n",
    "# Merge Customers and Transactions on CustomerID\n",
    "customer_transactions = pd.merge(transactions, customers, on=\"CustomerID\", how=\"left\")\n",
    "\n",
    "# Merge the result with Products on ProductID\n",
    "full_data = pd.merge(customer_transactions, products, on=\"ProductID\", how=\"left\")\n",
    "\n",
    "# Check the combined dataset\n",
    "print(full_data.head())"
   ]
  },
  {
   "cell_type": "code",
   "execution_count": 3,
   "id": "14c9fd54-fa4f-4f8c-83ce-ff3513b281ee",
   "metadata": {},
   "outputs": [
    {
     "name": "stdout",
     "output_type": "stream",
     "text": [
      "  CustomerID  total_spent  electronics_spent  home_decor_spent  num_purchases  \\\n",
      "0      C0001      3354.52            2827.30            412.62              5   \n",
      "1      C0002      1862.74               0.00            837.28              4   \n",
      "2      C0003      2725.38            1385.20           1217.82              4   \n",
      "3      C0004      5354.88            1355.74           2110.66              8   \n",
      "4      C0005      2034.24            1180.38            853.86              3   \n",
      "\n",
      "          region  \n",
      "0  South America  \n",
      "1           Asia  \n",
      "2  South America  \n",
      "3  South America  \n",
      "4           Asia  \n"
     ]
    }
   ],
   "source": [
    "# Aggregate customer data to create a profile (total spent per category, etc.)\n",
    "customer_profile = full_data.groupby(\"CustomerID\").agg(\n",
    "    total_spent=('TotalValue', 'sum'),\n",
    "    electronics_spent=('TotalValue', lambda x: x[full_data['Category'] == 'Electronics'].sum()),\n",
    "    home_decor_spent=('TotalValue', lambda x: x[full_data['Category'] == 'Home Decor'].sum()),\n",
    "    num_purchases=('TransactionID', 'nunique'),\n",
    "    region=('Region', 'first')  # Assuming all transactions are from the same region per customer\n",
    ").reset_index()\n",
    "\n",
    "# Check the customer profile\n",
    "print(customer_profile.head())"
   ]
  },
  {
   "cell_type": "code",
   "execution_count": 31,
   "id": "88c928bc-a5b9-4c7f-a141-ea1da60cf5a1",
   "metadata": {},
   "outputs": [
    {
     "name": "stdout",
     "output_type": "stream",
     "text": [
      "  cust_id                                         lookalikes\n",
      "0   C0001  [('C0069', 0.9926792355564207), ('C0018', 0.99...\n",
      "1   C0002  [('C0189', 0.9994738527939935), ('C0103', 0.99...\n",
      "2   C0003  [('C0005', 0.9949259154318374), ('C0166', 0.99...\n",
      "3   C0004  [('C0086', 0.9982683706787342), ('C0075', 0.99...\n",
      "4   C0005  [('C0085', 0.997272860876509), ('C0163', 0.996...\n"
     ]
    }
   ],
   "source": [
    "import pandas as pd\n",
    "\n",
    "# Function to get top N lookalikes along with similarity scores\n",
    "def get_top_lookalikes(customer_id, num_lookalikes=3):\n",
    "    # Get similarity scores for the given customer\n",
    "    sim_scores = cosine_sim_df[customer_id].sort_values(ascending=False)\n",
    "    \n",
    "    # Remove the customer themselves from the list\n",
    "    sim_scores = sim_scores[sim_scores.index != customer_id]\n",
    "    \n",
    "    # Filter out NaN values in the similarity scores\n",
    "    sim_scores = sim_scores.dropna()\n",
    "    \n",
    "    # Get the customer IDs of the top N lookalikes\n",
    "    top_lookalikes = sim_scores.head(num_lookalikes).index.tolist()  # Customer IDs\n",
    "    \n",
    "    # Get the similarity scores for these lookalikes\n",
    "    top_scores = sim_scores.head(num_lookalikes).tolist()\n",
    "    \n",
    "    # Create a list of tuples: [(lookalike_id, similarity_score)]\n",
    "    lookalike_info = list(zip(top_lookalikes, top_scores))\n",
    "    \n",
    "    return lookalike_info\n",
    "\n",
    "# Initialize a dictionary to store the results\n",
    "lookalike_map = {}\n",
    "\n",
    "# Get the top 3 lookalikes for the first 20 customers\n",
    "for customer_id in customer_profile['CustomerID'][:20]:\n",
    "    lookalike_map[customer_id] = get_top_lookalikes(customer_id)\n",
    "\n",
    "# Prepare the data for CSV\n",
    "lookalike_list = []\n",
    "\n",
    "# For each customer, store their lookalikes and similarity scores\n",
    "for cust_id, lookalikes in lookalike_map.items():\n",
    "    # Convert list of tuples to string format '[(lookalike_id, score), ...]'\n",
    "    lookalikes_str = str(lookalikes)\n",
    "    \n",
    "    # Append to the list\n",
    "    lookalike_list.append({\n",
    "        \"cust_id\": cust_id,\n",
    "        \"lookalikes\": lookalikes_str  # Save the string representation of the list\n",
    "    })\n",
    "\n",
    "# Create a DataFrame\n",
    "lookalike_df = pd.DataFrame(lookalike_list)\n",
    "\n",
    "# Save the DataFrame to a CSV\n",
    "lookalike_df.to_csv(\"C:\\\\Users\\\\saran\\\\OneDrive\\\\Desktop\\\\Lookalike.csv\", index=False, quotechar='\"')\n",
    "\n",
    "# Check the result in the DataFrame\n",
    "print(lookalike_df.head())\n"
   ]
  },
  {
   "cell_type": "code",
   "execution_count": null,
   "id": "cff75f59-6224-4fb4-be0a-d47621955dd9",
   "metadata": {},
   "outputs": [],
   "source": []
  }
 ],
 "metadata": {
  "kernelspec": {
   "display_name": "Python 3 (ipykernel)",
   "language": "python",
   "name": "python3"
  },
  "language_info": {
   "codemirror_mode": {
    "name": "ipython",
    "version": 3
   },
   "file_extension": ".py",
   "mimetype": "text/x-python",
   "name": "python",
   "nbconvert_exporter": "python",
   "pygments_lexer": "ipython3",
   "version": "3.12.7"
  }
 },
 "nbformat": 4,
 "nbformat_minor": 5
}
